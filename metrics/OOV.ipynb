{
 "cells": [
  {
   "cell_type": "code",
   "execution_count": 59,
   "metadata": {
    "scrolled": true
   },
   "outputs": [],
   "source": [
    "import sys\n",
    "sys.path.append('/home/lv71161/hlibbabii/projects/log-recommender-dataprep/')\n",
    "\n",
    "import dataprep.api.corpus as api\n",
    "from metrics.vector import get_new_vocab\n",
    "\n",
    "datasets = ['/home/lv71161/hlibbabii/raw_datasets/allamanis/small_chunk/train',\n",
    "            '/home/lv71161/hlibbabii/raw_datasets/allamanis/small_chunk/test'\n",
    "           ]\n",
    "\n",
    "split_functions = [\n",
    "    (\"No split\", lambda c: api.nosplit(c, extensions=\"java\", calc_vocab=True)),\n",
    "    (\"No split English\", lambda c: api.nosplit(c, extensions=\"java\", no_unicode=True, calc_vocab=True)),\n",
    "    (\"Basic splitting\", lambda c: api.basic(c, extensions=\"java\", calc_vocab=True)),\n",
    "]\n",
    "\n",
    "tops = [sys.maxsize, 200000, 100000, 75000, 50000, 25000]\n",
    "\n",
    "def calc_and_display_stats(split_function):\n",
    "    vocabs = []\n",
    "    for dataset in datasets:\n",
    "        prep_train = split_function[1](dataset)\n",
    "        vocabs.append(prep_train.load_vocab())\n",
    "\n",
    "    train_vocab, test_vocab = tuple(vocabs)\n",
    "    test_tokens_number = sum(test_vocab.values())\n",
    "\n",
    "    print(\"\\n========================   Stats   =========================\\n\")\n",
    "    print(f\"{split_function[0]}\\n\")\n",
    "\n",
    "    print(f\"Train vocab: {len(train_vocab)}\")\n",
    "    print(f\"Test vocab: {len(test_vocab)}\\n\")\n",
    "\n",
    "    for top in tops:\n",
    "        oov_in_test = get_new_vocab(list(train_vocab.items())[:top], list(test_vocab.items()))\n",
    "        oov_tokens_number = sum(map(lambda e: e[1], oov_in_test))\n",
    "        print(f\"OOV in test set (top {top}): {len(oov_in_test)} ({100.0 * len(oov_in_test) / len(test_vocab):.2f}%), oov tokens number: {oov_tokens_number} ({100.0*oov_tokens_number/test_tokens_number:.2f}%)\")\n"
   ]
  },
  {
   "cell_type": "code",
   "execution_count": 60,
   "metadata": {
    "scrolled": true
   },
   "outputs": [
    {
     "name": "stdout",
     "output_type": "stream",
     "text": [
      "--- Parsing...\n",
      "Parsed dataset is up-to-date.\n",
      "--- Preprocessing...\n",
      "Dataset is already preprocessed and up-to-date.\n",
      "--- Computing vocab...\n",
      "Vocab files already exist at: /home/lv71161/hlibbabii/.config/dataprep/1.0.0-alpha.6/vocab/train_19-05-22T17-59-55_-_java_-_u00su/ . Doing nothing.\n",
      "Preprocessed dataset is ready at /home/lv71161/hlibbabii/projects/log-recommender-dataprep/metrics/train_19-05-22T17-59-55_-_java_-_u00su_-_prep\n",
      "--- Parsing...\n",
      "Parsed dataset is up-to-date.\n",
      "--- Preprocessing...\n",
      "Dataset is already preprocessed and up-to-date.\n",
      "--- Computing vocab...\n",
      "Vocab files already exist at: /home/lv71161/hlibbabii/.config/dataprep/1.0.0-alpha.6/vocab/test_19-05-22T17-59-18_-_java_-_u00su/ . Doing nothing.\n",
      "Preprocessed dataset is ready at /home/lv71161/hlibbabii/projects/log-recommender-dataprep/metrics/test_19-05-22T17-59-18_-_java_-_u00su_-_prep\n",
      "\n",
      "========================   Stats   =========================\n",
      "\n",
      "No split\n",
      "\n",
      "Train vocab: 92316\n",
      "Test vocab: 7246\n",
      "\n",
      "OOV in test set (top 9223372036854775807): 3287 (45.36%), oov tokens number: 15129 (7.23%)\n",
      "OOV in test set (top 200000): 3287 (45.36%), oov tokens number: 15129 (7.23%)\n",
      "OOV in test set (top 100000): 3287 (45.36%), oov tokens number: 15129 (7.23%)\n",
      "OOV in test set (top 75000): 3437 (47.43%), oov tokens number: 15757 (7.53%)\n",
      "OOV in test set (top 50000): 3642 (50.26%), oov tokens number: 16713 (7.98%)\n",
      "OOV in test set (top 25000): 4034 (55.67%), oov tokens number: 18264 (8.72%)\n"
     ]
    }
   ],
   "source": [
    "calc_and_display_stats(split_functions[0])"
   ]
  },
  {
   "cell_type": "code",
   "execution_count": 61,
   "metadata": {},
   "outputs": [
    {
     "name": "stdout",
     "output_type": "stream",
     "text": [
      "--- Parsing...\n",
      "Parsed dataset is up-to-date.\n",
      "--- Preprocessing...\n",
      "Dataset is already preprocessed and up-to-date.\n",
      "--- Computing vocab...\n",
      "Vocab files already exist at: /home/lv71161/hlibbabii/.config/dataprep/1.0.0-alpha.6/vocab/train_19-05-22T17-59-55_-_java_-_U00su/ . Doing nothing.\n",
      "Preprocessed dataset is ready at /home/lv71161/hlibbabii/projects/log-recommender-dataprep/metrics/train_19-05-22T17-59-55_-_java_-_U00su_-_prep\n",
      "--- Parsing...\n",
      "Parsed dataset is up-to-date.\n",
      "--- Preprocessing...\n",
      "Dataset is already preprocessed and up-to-date.\n",
      "--- Computing vocab...\n",
      "Vocab files already exist at: /home/lv71161/hlibbabii/.config/dataprep/1.0.0-alpha.6/vocab/test_19-05-22T17-59-18_-_java_-_U00su/ . Doing nothing.\n",
      "Preprocessed dataset is ready at /home/lv71161/hlibbabii/projects/log-recommender-dataprep/metrics/test_19-05-22T17-59-18_-_java_-_U00su_-_prep\n",
      "\n",
      "========================   Stats   =========================\n",
      "\n",
      "No split English\n",
      "\n",
      "Train vocab: 92208\n",
      "Test vocab: 7229\n",
      "\n",
      "OOV in test set (top 9223372036854775807): 3270 (45.23%), oov tokens number: 15099 (7.21%)\n",
      "OOV in test set (top 200000): 3270 (45.23%), oov tokens number: 15099 (7.21%)\n",
      "OOV in test set (top 100000): 3270 (45.23%), oov tokens number: 15099 (7.21%)\n",
      "OOV in test set (top 75000): 3428 (47.42%), oov tokens number: 15748 (7.52%)\n",
      "OOV in test set (top 50000): 3630 (50.21%), oov tokens number: 16715 (7.98%)\n",
      "OOV in test set (top 25000): 4016 (55.55%), oov tokens number: 18274 (8.73%)\n"
     ]
    }
   ],
   "source": [
    "calc_and_display_stats(split_functions[1])"
   ]
  },
  {
   "cell_type": "code",
   "execution_count": 62,
   "metadata": {},
   "outputs": [
    {
     "name": "stdout",
     "output_type": "stream",
     "text": [
      "--- Parsing...\n",
      "Parsed dataset is up-to-date.\n",
      "--- Preprocessing...\n",
      "Dataset is already preprocessed and up-to-date.\n",
      "--- Computing vocab...\n",
      "Vocab files already exist at: /home/lv71161/hlibbabii/.config/dataprep/1.0.0-alpha.6/vocab/train_19-05-22T17-59-55_-_java_-_u01su/ . Doing nothing.\n",
      "Preprocessed dataset is ready at /home/lv71161/hlibbabii/projects/log-recommender-dataprep/metrics/train_19-05-22T17-59-55_-_java_-_u01su_-_prep\n",
      "--- Parsing...\n",
      "Parsed dataset is up-to-date.\n",
      "--- Preprocessing...\n",
      "Dataset is already preprocessed and up-to-date.\n",
      "--- Computing vocab...\n",
      "Vocab files already exist at: /home/lv71161/hlibbabii/.config/dataprep/1.0.0-alpha.6/vocab/test_19-05-22T17-59-18_-_java_-_u01su/ . Doing nothing.\n",
      "Preprocessed dataset is ready at /home/lv71161/hlibbabii/projects/log-recommender-dataprep/metrics/test_19-05-22T17-59-18_-_java_-_u01su_-_prep\n",
      "\n",
      "========================   Stats   =========================\n",
      "\n",
      "Basic splitting\n",
      "\n",
      "Train vocab: 30019\n",
      "Test vocab: 4867\n",
      "\n",
      "OOV in test set (top 9223372036854775807): 979 (20.12%), oov tokens number: 6616 (2.43%)\n",
      "OOV in test set (top 200000): 979 (20.12%), oov tokens number: 6616 (2.43%)\n",
      "OOV in test set (top 100000): 979 (20.12%), oov tokens number: 6616 (2.43%)\n",
      "OOV in test set (top 75000): 979 (20.12%), oov tokens number: 6616 (2.43%)\n",
      "OOV in test set (top 50000): 979 (20.12%), oov tokens number: 6616 (2.43%)\n",
      "OOV in test set (top 25000): 1063 (21.84%), oov tokens number: 7289 (2.68%)\n"
     ]
    }
   ],
   "source": [
    "calc_and_display_stats(split_functions[2])"
   ]
  }
 ],
 "metadata": {
  "kernelspec": {
   "display_name": "metrics",
   "language": "python",
   "name": "metrics"
  },
  "language_info": {
   "codemirror_mode": {
    "name": "ipython",
    "version": 3
   },
   "file_extension": ".py",
   "mimetype": "text/x-python",
   "name": "python",
   "nbconvert_exporter": "python",
   "pygments_lexer": "ipython3",
   "version": "3.7.3"
  }
 },
 "nbformat": 4,
 "nbformat_minor": 2
}
