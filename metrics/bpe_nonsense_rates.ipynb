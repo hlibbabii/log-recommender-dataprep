{
 "cells": [
  {
   "cell_type": "code",
   "execution_count": 7,
   "metadata": {},
   "outputs": [],
   "source": [
    "%load_ext autoreload\n",
    "%autoreload 2"
   ]
  },
  {
   "cell_type": "code",
   "execution_count": 15,
   "metadata": {},
   "outputs": [
    {
     "name": "stdout",
     "output_type": "stream",
     "text": [
      "[MainProcess] DEBUG - 2019-06-18 00:45:28,789 - urllib3.connectionpool: Starting new HTTPS connection (1): plot.ly:443\n",
      "[MainProcess] DEBUG - 2019-06-18 00:45:30,460 - urllib3.connectionpool: https://plot.ly:443 \"POST /clientresp HTTP/1.1\" 200 None\n"
     ]
    },
    {
     "data": {
      "text/html": [
       "<iframe id=\"igraph\" scrolling=\"no\" style=\"border:none;\" seamless=\"seamless\" src=\"https://plot.ly/~hlibbabii/2.embed\" height=\"525px\" width=\"100%\"></iframe>"
      ],
      "text/plain": [
       "<chart_studio.tools.PlotlyDisplay object>"
      ]
     },
     "execution_count": 15,
     "metadata": {},
     "output_type": "execute_result"
    }
   ],
   "source": [
    "from metrics.vector import nonsense_rate\n",
    "import dataprep.vocab.vocabloader as vl\n",
    "    \n",
    "nrate = [nonsense_rate(list(vl.bpe('python', i).items())) for i in range(100, 20000, 100)]\n",
    "\n",
    "import pandas as pd\n",
    "df = pd.DataFrame({'n_merges': list(range(100, 20000, 100)), 'nonsense_rate': nrate})\n",
    "df\n",
    "\n",
    "import plotly.plotly as pydo python dataprep/__main__.py learn-bpe $i -p \"/home/lv71161/hlibbabii/raw_datasets/python\" --ext \"py\"; done\n",
    "import plotly.graph_objs as go\n",
    "\n",
    "data = [go.Bar(x=df.n_merges, y=df.nonsense_rate)]\n",
    "\n",
    "py.iplot(data, filename='jupyter-basic_bar')"
   ]
  },
  {
   "cell_type": "code",
   "execution_count": null,
   "metadata": {},
   "outputs": [],
   "source": []
  }
 ],
 "metadata": {
  "kernelspec": {
   "display_name": "dataprep",
   "language": "python",
   "name": "dataprep"
  },
  "language_info": {
   "codemirror_mode": {
    "name": "ipython",
    "version": 3
   },
   "file_extension": ".py",
   "mimetype": "text/x-python",
   "name": "python",
   "nbconvert_exporter": "python",
   "pygments_lexer": "ipython3",
   "version": "3.6.7"
  }
 },
 "nbformat": 4,
 "nbformat_minor": 2
}
