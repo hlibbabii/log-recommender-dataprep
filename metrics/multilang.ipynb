{
 "cells": [
  {
   "cell_type": "markdown",
   "metadata": {},
   "source": [
    "# Python vs Java vs C Experiments"
   ]
  },
  {
   "cell_type": "markdown",
   "metadata": {},
   "source": [
    "### Setting things up"
   ]
  },
  {
   "cell_type": "code",
   "execution_count": 28,
   "metadata": {},
   "outputs": [
    {
     "name": "stdout",
     "output_type": "stream",
     "text": [
      "The autoreload extension is already loaded. To reload it, use:\n",
      "  %reload_ext autoreload\n"
     ]
    }
   ],
   "source": [
    "%load_ext autoreload\n",
    "%autoreload 2"
   ]
  },
  {
   "cell_type": "code",
   "execution_count": 29,
   "metadata": {},
   "outputs": [],
   "source": [
    "import os\n",
    "from pandas import DataFrame\n",
    "from typing import List\n",
    "\n",
    "from metrics.vector import pearson, cooccurences, summarize_cooccurences\n",
    "from metrics.merge import Merge, read_merges\n",
    "from metrics.matrix import pearson_matrix, cooccurence_matrix"
   ]
  },
  {
   "cell_type": "markdown",
   "metadata": {},
   "source": [
    "### Loading merges"
   ]
  },
  {
   "cell_type": "code",
   "execution_count": 30,
   "metadata": {},
   "outputs": [],
   "source": [
    "java_merges_file = \"/home/lv71161/hlibbabii/.config/dataprep/1.0.0-alpha/bpe/small_chunk_19-05-22T17-59-55/10000/merges.txt\"\n",
    "python_merges_file = \"/home/lv71161/hlibbabii/.config/dataprep/1.0.0-alpha/bpe/python_19-05-20T00-48-25/10000/merges.txt\"\n",
    "c_merges_file = \"/home/lv71161/hlibbabii/.config/dataprep/1.0.0-alpha/bpe/c_19-05-24T08-55-52/10000/merges.txt\"\n",
    "\n",
    "java_nocase_merges_file = \"/home/lv71161/hlibbabii/.config/dataprep/1.0.0-alpha/bpe/small_chunk_nocase_19-05-24T19-40-05/10000/merges.txt\"\n",
    "python_nocase_merges_file = \"/home/lv71161/hlibbabii/.config/dataprep/1.0.0-alpha/bpe/python_nocase_19-05-24T19-41-52/10000/merges.txt\"\n",
    "c_nocase_merges_file = \"/home/lv71161/hlibbabii/.config/dataprep/1.0.0-alpha/bpe/c_nocase_19-05-24T19-41-10/10000/merges.txt\"\n",
    "\n",
    "java_merges = read_merges(java_merges_file)\n",
    "python_merges = read_merges(python_merges_file)\n",
    "c_merges = read_merges(c_merges_file)\n",
    "\n",
    "java_nocase_merges = read_merges(java_nocase_merges_file)\n",
    "python_nocase_merges = read_merges(python_nocase_merges_file)\n",
    "c_nocase_merges = read_merges(c_nocase_merges_file)"
   ]
  },
  {
   "cell_type": "code",
   "execution_count": 31,
   "metadata": {},
   "outputs": [
    {
     "name": "stdout",
     "output_type": "stream",
     "text": [
      "N merges: 10000\n"
     ]
    },
    {
     "data": {
      "text/plain": [
       "([('\\\\', '\\\\'): 5050789,\n",
       "  ('\\\\', \"'\"): 1534342,\n",
       "  ('s', 'e'): 1113570,\n",
       "  ('t', 'e'): 855855,\n",
       "  ('i', 'n'): 852704,\n",
       "  ('o', 'n'): 851730,\n",
       "  ('r', 'e'): 840195,\n",
       "  ('s', 't'): 711704,\n",
       "  ('l', 'e'): 650553,\n",
       "  ('a', 'l'): 548889],\n",
       " [('\\\\', '\\\\'): 10101578,\n",
       "  ('\\\\', \"'\"): 3068684,\n",
       "  ('s', 'e'): 2323188,\n",
       "  ('i', 'n'): 1870736,\n",
       "  ('t', 'e'): 1856902,\n",
       "  ('r', 'e'): 1790498,\n",
       "  ('o', 'n'): 1758958,\n",
       "  ('s', 't'): 1490566,\n",
       "  ('l', 'e'): 1376906,\n",
       "  ('a', 'l'): 1154498])"
      ]
     },
     "execution_count": 31,
     "metadata": {},
     "output_type": "execute_result"
    }
   ],
   "source": [
    "print(f\"N merges: {len(python_merges)}\")\n",
    "python_merges[:10], python_nocase_merges[:10]"
   ]
  },
  {
   "cell_type": "code",
   "execution_count": 32,
   "metadata": {},
   "outputs": [
    {
     "name": "stdout",
     "output_type": "stream",
     "text": [
      "N merges: 10000\n"
     ]
    },
    {
     "data": {
      "text/plain": [
       "([('\\\\', '\\\\'): 1880641,\n",
       "  ('e', 'r'): 447509,\n",
       "  ('o', 'n'): 404945,\n",
       "  ('\\\\', 't'): 319763,\n",
       "  ('o', 'r'): 311230,\n",
       "  ('t', 'i'): 308509,\n",
       "  ('i', 'n'): 274370,\n",
       "  ('e', 't'): 255731,\n",
       "  ('e', 'n'): 243685,\n",
       "  ('e', 's'): 242396],\n",
       " [('\\\\', '\\\\'): 1880641,\n",
       "  ('e', 'r'): 462971,\n",
       "  ('o', 'n'): 424580,\n",
       "  ('i', 'n'): 350414,\n",
       "  ('r', 'e'): 334290,\n",
       "  ('\\\\', 't'): 319763,\n",
       "  ('t', 'i'): 314714,\n",
       "  ('s', 't'): 309712,\n",
       "  ('o', 'r'): 308089,\n",
       "  ('e', 'n'): 247251])"
      ]
     },
     "execution_count": 32,
     "metadata": {},
     "output_type": "execute_result"
    }
   ],
   "source": [
    "print(f\"N merges: {len(java_merges)}\")\n",
    "java_merges[:10], java_nocase_merges[:10]"
   ]
  },
  {
   "cell_type": "code",
   "execution_count": 33,
   "metadata": {
    "scrolled": true
   },
   "outputs": [
    {
     "name": "stdout",
     "output_type": "stream",
     "text": [
      "N merges: 10000\n"
     ]
    },
    {
     "data": {
      "text/plain": [
       "([('\\\\', '\\\\'): 16840145,\n",
       "  ('i', 'n'): 1721676,\n",
       "  ('r', 'e'): 1717501,\n",
       "  ('d', 'e'): 1430342,\n",
       "  ('s', 't'): 1307662,\n",
       "  ('a', 't'): 1189279,\n",
       "  ('e', 'r'): 1139720,\n",
       "  ('0', '0'): 986828,\n",
       "  ('t', 'i'): 825342,\n",
       "  ('s', 'e'): 771446],\n",
       " [('\\\\', '\\\\'): 16779596,\n",
       "  ('i', 'n'): 2026487,\n",
       "  ('r', 'e'): 1962547,\n",
       "  ('d', 'e'): 1634017,\n",
       "  ('s', 't'): 1480094,\n",
       "  ('e', 'r'): 1373186,\n",
       "  ('a', 't'): 1338654,\n",
       "  ('0', '0'): 960346,\n",
       "  ('s', 'e'): 928712,\n",
       "  ('t', 'i'): 899107])"
      ]
     },
     "execution_count": 33,
     "metadata": {},
     "output_type": "execute_result"
    }
   ],
   "source": [
    "print(f\"N merges: {len(c_merges)}\")\n",
    "c_merges[:10], c_nocase_merges[:10]"
   ]
  },
  {
   "cell_type": "markdown",
   "metadata": {},
   "source": [
    "### Metric 1. Pearson"
   ]
  },
  {
   "cell_type": "code",
   "execution_count": 34,
   "metadata": {
    "scrolled": true
   },
   "outputs": [
    {
     "name": "stdout",
     "output_type": "stream",
     "text": [
      "N merges: 1k, case\n"
     ]
    },
    {
     "data": {
      "text/html": [
       "<div>\n",
       "<style scoped>\n",
       "    .dataframe tbody tr th:only-of-type {\n",
       "        vertical-align: middle;\n",
       "    }\n",
       "\n",
       "    .dataframe tbody tr th {\n",
       "        vertical-align: top;\n",
       "    }\n",
       "\n",
       "    .dataframe thead th {\n",
       "        text-align: right;\n",
       "    }\n",
       "</style>\n",
       "<table border=\"1\" class=\"dataframe\">\n",
       "  <thead>\n",
       "    <tr style=\"text-align: right;\">\n",
       "      <th></th>\n",
       "      <th>0</th>\n",
       "      <th>1</th>\n",
       "      <th>2</th>\n",
       "    </tr>\n",
       "  </thead>\n",
       "  <tbody>\n",
       "    <tr>\n",
       "      <th>0</th>\n",
       "      <td>1.000</td>\n",
       "      <td>0.864</td>\n",
       "      <td>0.895</td>\n",
       "    </tr>\n",
       "    <tr>\n",
       "      <th>1</th>\n",
       "      <td>0.864</td>\n",
       "      <td>1.000</td>\n",
       "      <td>0.893</td>\n",
       "    </tr>\n",
       "    <tr>\n",
       "      <th>2</th>\n",
       "      <td>0.895</td>\n",
       "      <td>0.893</td>\n",
       "      <td>1.000</td>\n",
       "    </tr>\n",
       "  </tbody>\n",
       "</table>\n",
       "</div>"
      ],
      "text/plain": [
       "       0      1      2\n",
       "0  1.000  0.864  0.895\n",
       "1  0.864  1.000  0.893\n",
       "2  0.895  0.893  1.000"
      ]
     },
     "execution_count": 34,
     "metadata": {},
     "output_type": "execute_result"
    }
   ],
   "source": [
    "n_merges = 1000\n",
    "print(f\"N merges: {n_merges//1000}k, case\")\n",
    "m = pearson_matrix([java_merges[:n_merges], python_merges[:n_merges], c_merges[:n_merges]])\n",
    "DataFrame(m).round(3)"
   ]
  },
  {
   "cell_type": "code",
   "execution_count": 35,
   "metadata": {},
   "outputs": [
    {
     "name": "stdout",
     "output_type": "stream",
     "text": [
      "N merges: 1k, NO case\n"
     ]
    },
    {
     "data": {
      "text/html": [
       "<div>\n",
       "<style scoped>\n",
       "    .dataframe tbody tr th:only-of-type {\n",
       "        vertical-align: middle;\n",
       "    }\n",
       "\n",
       "    .dataframe tbody tr th {\n",
       "        vertical-align: top;\n",
       "    }\n",
       "\n",
       "    .dataframe thead th {\n",
       "        text-align: right;\n",
       "    }\n",
       "</style>\n",
       "<table border=\"1\" class=\"dataframe\">\n",
       "  <thead>\n",
       "    <tr style=\"text-align: right;\">\n",
       "      <th></th>\n",
       "      <th>0</th>\n",
       "      <th>1</th>\n",
       "      <th>2</th>\n",
       "    </tr>\n",
       "  </thead>\n",
       "  <tbody>\n",
       "    <tr>\n",
       "      <th>0</th>\n",
       "      <td>1.000</td>\n",
       "      <td>0.896</td>\n",
       "      <td>0.901</td>\n",
       "    </tr>\n",
       "    <tr>\n",
       "      <th>1</th>\n",
       "      <td>0.896</td>\n",
       "      <td>1.000</td>\n",
       "      <td>0.892</td>\n",
       "    </tr>\n",
       "    <tr>\n",
       "      <th>2</th>\n",
       "      <td>0.901</td>\n",
       "      <td>0.892</td>\n",
       "      <td>1.000</td>\n",
       "    </tr>\n",
       "  </tbody>\n",
       "</table>\n",
       "</div>"
      ],
      "text/plain": [
       "       0      1      2\n",
       "0  1.000  0.896  0.901\n",
       "1  0.896  1.000  0.892\n",
       "2  0.901  0.892  1.000"
      ]
     },
     "execution_count": 35,
     "metadata": {},
     "output_type": "execute_result"
    }
   ],
   "source": [
    "n_merges = 1000\n",
    "print(f\"N merges: {n_merges//1000}k, NO case\")\n",
    "m = pearson_matrix([java_nocase_merges[:n_merges], python_nocase_merges[:n_merges], c_nocase_merges[:n_merges]])\n",
    "DataFrame(m).round(3)"
   ]
  },
  {
   "cell_type": "code",
   "execution_count": 36,
   "metadata": {},
   "outputs": [
    {
     "name": "stdout",
     "output_type": "stream",
     "text": [
      "N merges: 10k, case\n"
     ]
    },
    {
     "data": {
      "text/html": [
       "<div>\n",
       "<style scoped>\n",
       "    .dataframe tbody tr th:only-of-type {\n",
       "        vertical-align: middle;\n",
       "    }\n",
       "\n",
       "    .dataframe tbody tr th {\n",
       "        vertical-align: top;\n",
       "    }\n",
       "\n",
       "    .dataframe thead th {\n",
       "        text-align: right;\n",
       "    }\n",
       "</style>\n",
       "<table border=\"1\" class=\"dataframe\">\n",
       "  <thead>\n",
       "    <tr style=\"text-align: right;\">\n",
       "      <th></th>\n",
       "      <th>0</th>\n",
       "      <th>1</th>\n",
       "      <th>2</th>\n",
       "    </tr>\n",
       "  </thead>\n",
       "  <tbody>\n",
       "    <tr>\n",
       "      <th>0</th>\n",
       "      <td>1.000</td>\n",
       "      <td>0.869</td>\n",
       "      <td>0.896</td>\n",
       "    </tr>\n",
       "    <tr>\n",
       "      <th>1</th>\n",
       "      <td>0.869</td>\n",
       "      <td>1.000</td>\n",
       "      <td>0.894</td>\n",
       "    </tr>\n",
       "    <tr>\n",
       "      <th>2</th>\n",
       "      <td>0.896</td>\n",
       "      <td>0.894</td>\n",
       "      <td>1.000</td>\n",
       "    </tr>\n",
       "  </tbody>\n",
       "</table>\n",
       "</div>"
      ],
      "text/plain": [
       "       0      1      2\n",
       "0  1.000  0.869  0.896\n",
       "1  0.869  1.000  0.894\n",
       "2  0.896  0.894  1.000"
      ]
     },
     "execution_count": 36,
     "metadata": {},
     "output_type": "execute_result"
    }
   ],
   "source": [
    "n_merges = 10000\n",
    "print(f\"N merges: {n_merges//1000}k, case\")\n",
    "m = pearson_matrix([java_merges[:n_merges], python_merges[:n_merges], c_merges[:n_merges]])\n",
    "DataFrame(m).round(3)"
   ]
  },
  {
   "cell_type": "code",
   "execution_count": 37,
   "metadata": {},
   "outputs": [
    {
     "name": "stdout",
     "output_type": "stream",
     "text": [
      "N merges: 10k, NO case\n"
     ]
    },
    {
     "data": {
      "text/html": [
       "<div>\n",
       "<style scoped>\n",
       "    .dataframe tbody tr th:only-of-type {\n",
       "        vertical-align: middle;\n",
       "    }\n",
       "\n",
       "    .dataframe tbody tr th {\n",
       "        vertical-align: top;\n",
       "    }\n",
       "\n",
       "    .dataframe thead th {\n",
       "        text-align: right;\n",
       "    }\n",
       "</style>\n",
       "<table border=\"1\" class=\"dataframe\">\n",
       "  <thead>\n",
       "    <tr style=\"text-align: right;\">\n",
       "      <th></th>\n",
       "      <th>0</th>\n",
       "      <th>1</th>\n",
       "      <th>2</th>\n",
       "    </tr>\n",
       "  </thead>\n",
       "  <tbody>\n",
       "    <tr>\n",
       "      <th>0</th>\n",
       "      <td>1.000</td>\n",
       "      <td>0.900</td>\n",
       "      <td>0.902</td>\n",
       "    </tr>\n",
       "    <tr>\n",
       "      <th>1</th>\n",
       "      <td>0.900</td>\n",
       "      <td>1.000</td>\n",
       "      <td>0.894</td>\n",
       "    </tr>\n",
       "    <tr>\n",
       "      <th>2</th>\n",
       "      <td>0.902</td>\n",
       "      <td>0.894</td>\n",
       "      <td>1.000</td>\n",
       "    </tr>\n",
       "  </tbody>\n",
       "</table>\n",
       "</div>"
      ],
      "text/plain": [
       "       0      1      2\n",
       "0  1.000  0.900  0.902\n",
       "1  0.900  1.000  0.894\n",
       "2  0.902  0.894  1.000"
      ]
     },
     "execution_count": 37,
     "metadata": {},
     "output_type": "execute_result"
    }
   ],
   "source": [
    "n_merges = 10000\n",
    "print(f\"N merges: {n_merges//1000}k, NO case\")\n",
    "m = pearson_matrix([java_nocase_merges[:n_merges], python_nocase_merges[:n_merges], c_nocase_merges[:n_merges]])\n",
    "DataFrame(m).round(3)"
   ]
  },
  {
   "cell_type": "markdown",
   "metadata": {},
   "source": [
    "### Metric 2. Bpe merges cooccurrences"
   ]
  },
  {
   "cell_type": "code",
   "execution_count": 38,
   "metadata": {},
   "outputs": [
    {
     "name": "stdout",
     "output_type": "stream",
     "text": [
      "N merges: 1k, case\n"
     ]
    },
    {
     "data": {
      "text/html": [
       "<div>\n",
       "<style scoped>\n",
       "    .dataframe tbody tr th:only-of-type {\n",
       "        vertical-align: middle;\n",
       "    }\n",
       "\n",
       "    .dataframe tbody tr th {\n",
       "        vertical-align: top;\n",
       "    }\n",
       "\n",
       "    .dataframe thead th {\n",
       "        text-align: right;\n",
       "    }\n",
       "</style>\n",
       "<table border=\"1\" class=\"dataframe\">\n",
       "  <thead>\n",
       "    <tr style=\"text-align: right;\">\n",
       "      <th></th>\n",
       "      <th>0</th>\n",
       "      <th>1</th>\n",
       "      <th>2</th>\n",
       "    </tr>\n",
       "  </thead>\n",
       "  <tbody>\n",
       "    <tr>\n",
       "      <th>0</th>\n",
       "      <td>1.000</td>\n",
       "      <td>0.365</td>\n",
       "      <td>0.320</td>\n",
       "    </tr>\n",
       "    <tr>\n",
       "      <th>1</th>\n",
       "      <td>0.365</td>\n",
       "      <td>1.000</td>\n",
       "      <td>0.404</td>\n",
       "    </tr>\n",
       "    <tr>\n",
       "      <th>2</th>\n",
       "      <td>0.320</td>\n",
       "      <td>0.404</td>\n",
       "      <td>1.000</td>\n",
       "    </tr>\n",
       "  </tbody>\n",
       "</table>\n",
       "</div>"
      ],
      "text/plain": [
       "       0      1      2\n",
       "0  1.000  0.365  0.320\n",
       "1  0.365  1.000  0.404\n",
       "2  0.320  0.404  1.000"
      ]
     },
     "execution_count": 38,
     "metadata": {},
     "output_type": "execute_result"
    }
   ],
   "source": [
    "n_merges = 1000\n",
    "print(f\"N merges: {n_merges//1000}k, case\")\n",
    "lst = [java_merges[:n_merges], python_merges[:n_merges], c_merges[:n_merges]]\n",
    "m = cooccurence_matrix(lst, lst)\n",
    "DataFrame(m).round(3)"
   ]
  },
  {
   "cell_type": "code",
   "execution_count": 39,
   "metadata": {},
   "outputs": [
    {
     "name": "stdout",
     "output_type": "stream",
     "text": [
      "N merges: 1k, NO case\n"
     ]
    },
    {
     "data": {
      "text/html": [
       "<div>\n",
       "<style scoped>\n",
       "    .dataframe tbody tr th:only-of-type {\n",
       "        vertical-align: middle;\n",
       "    }\n",
       "\n",
       "    .dataframe tbody tr th {\n",
       "        vertical-align: top;\n",
       "    }\n",
       "\n",
       "    .dataframe thead th {\n",
       "        text-align: right;\n",
       "    }\n",
       "</style>\n",
       "<table border=\"1\" class=\"dataframe\">\n",
       "  <thead>\n",
       "    <tr style=\"text-align: right;\">\n",
       "      <th></th>\n",
       "      <th>0</th>\n",
       "      <th>1</th>\n",
       "      <th>2</th>\n",
       "    </tr>\n",
       "  </thead>\n",
       "  <tbody>\n",
       "    <tr>\n",
       "      <th>0</th>\n",
       "      <td>1.000</td>\n",
       "      <td>0.47</td>\n",
       "      <td>0.413</td>\n",
       "    </tr>\n",
       "    <tr>\n",
       "      <th>1</th>\n",
       "      <td>0.470</td>\n",
       "      <td>1.00</td>\n",
       "      <td>0.430</td>\n",
       "    </tr>\n",
       "    <tr>\n",
       "      <th>2</th>\n",
       "      <td>0.413</td>\n",
       "      <td>0.43</td>\n",
       "      <td>1.000</td>\n",
       "    </tr>\n",
       "  </tbody>\n",
       "</table>\n",
       "</div>"
      ],
      "text/plain": [
       "       0     1      2\n",
       "0  1.000  0.47  0.413\n",
       "1  0.470  1.00  0.430\n",
       "2  0.413  0.43  1.000"
      ]
     },
     "execution_count": 39,
     "metadata": {},
     "output_type": "execute_result"
    }
   ],
   "source": [
    "n_merges = 1000\n",
    "print(f\"N merges: {n_merges//1000}k, NO case\")\n",
    "lst = [java_nocase_merges[:n_merges], python_nocase_merges[:n_merges], c_nocase_merges[:n_merges]]\n",
    "m = cooccurence_matrix(lst, lst)\n",
    "DataFrame(m).round(3)"
   ]
  },
  {
   "cell_type": "code",
   "execution_count": 40,
   "metadata": {},
   "outputs": [
    {
     "name": "stdout",
     "output_type": "stream",
     "text": [
      "N merges: 10k, case\n"
     ]
    },
    {
     "data": {
      "text/html": [
       "<div>\n",
       "<style scoped>\n",
       "    .dataframe tbody tr th:only-of-type {\n",
       "        vertical-align: middle;\n",
       "    }\n",
       "\n",
       "    .dataframe tbody tr th {\n",
       "        vertical-align: top;\n",
       "    }\n",
       "\n",
       "    .dataframe thead th {\n",
       "        text-align: right;\n",
       "    }\n",
       "</style>\n",
       "<table border=\"1\" class=\"dataframe\">\n",
       "  <thead>\n",
       "    <tr style=\"text-align: right;\">\n",
       "      <th></th>\n",
       "      <th>0</th>\n",
       "      <th>1</th>\n",
       "      <th>2</th>\n",
       "    </tr>\n",
       "  </thead>\n",
       "  <tbody>\n",
       "    <tr>\n",
       "      <th>0</th>\n",
       "      <td>1.000</td>\n",
       "      <td>0.347</td>\n",
       "      <td>0.299</td>\n",
       "    </tr>\n",
       "    <tr>\n",
       "      <th>1</th>\n",
       "      <td>0.347</td>\n",
       "      <td>1.000</td>\n",
       "      <td>0.359</td>\n",
       "    </tr>\n",
       "    <tr>\n",
       "      <th>2</th>\n",
       "      <td>0.299</td>\n",
       "      <td>0.359</td>\n",
       "      <td>1.000</td>\n",
       "    </tr>\n",
       "  </tbody>\n",
       "</table>\n",
       "</div>"
      ],
      "text/plain": [
       "       0      1      2\n",
       "0  1.000  0.347  0.299\n",
       "1  0.347  1.000  0.359\n",
       "2  0.299  0.359  1.000"
      ]
     },
     "execution_count": 40,
     "metadata": {},
     "output_type": "execute_result"
    }
   ],
   "source": [
    "n_merges = 10000\n",
    "print(f\"N merges: {n_merges//1000}k, case\")\n",
    "lst = [java_merges[:n_merges], python_merges[:n_merges], c_merges[:n_merges]]\n",
    "m = cooccurence_matrix(lst, lst)\n",
    "DataFrame(m).round(3)"
   ]
  },
  {
   "cell_type": "code",
   "execution_count": 41,
   "metadata": {},
   "outputs": [
    {
     "name": "stdout",
     "output_type": "stream",
     "text": [
      "N merges: 10k, NO case\n"
     ]
    },
    {
     "data": {
      "text/html": [
       "<div>\n",
       "<style scoped>\n",
       "    .dataframe tbody tr th:only-of-type {\n",
       "        vertical-align: middle;\n",
       "    }\n",
       "\n",
       "    .dataframe tbody tr th {\n",
       "        vertical-align: top;\n",
       "    }\n",
       "\n",
       "    .dataframe thead th {\n",
       "        text-align: right;\n",
       "    }\n",
       "</style>\n",
       "<table border=\"1\" class=\"dataframe\">\n",
       "  <thead>\n",
       "    <tr style=\"text-align: right;\">\n",
       "      <th></th>\n",
       "      <th>0</th>\n",
       "      <th>1</th>\n",
       "      <th>2</th>\n",
       "    </tr>\n",
       "  </thead>\n",
       "  <tbody>\n",
       "    <tr>\n",
       "      <th>0</th>\n",
       "      <td>1.000</td>\n",
       "      <td>0.391</td>\n",
       "      <td>0.322</td>\n",
       "    </tr>\n",
       "    <tr>\n",
       "      <th>1</th>\n",
       "      <td>0.391</td>\n",
       "      <td>1.000</td>\n",
       "      <td>0.333</td>\n",
       "    </tr>\n",
       "    <tr>\n",
       "      <th>2</th>\n",
       "      <td>0.322</td>\n",
       "      <td>0.333</td>\n",
       "      <td>1.000</td>\n",
       "    </tr>\n",
       "  </tbody>\n",
       "</table>\n",
       "</div>"
      ],
      "text/plain": [
       "       0      1      2\n",
       "0  1.000  0.391  0.322\n",
       "1  0.391  1.000  0.333\n",
       "2  0.322  0.333  1.000"
      ]
     },
     "execution_count": 41,
     "metadata": {},
     "output_type": "execute_result"
    }
   ],
   "source": [
    "n_merges = 10000\n",
    "print(f\"N merges: {n_merges//1000}k, NO case\")\n",
    "lst = [java_nocase_merges[:n_merges], python_nocase_merges[:n_merges], c_nocase_merges[:n_merges]]\n",
    "m = cooccurence_matrix(lst, lst)\n",
    "DataFrame(m).round(3)"
   ]
  },
  {
   "cell_type": "markdown",
   "metadata": {},
   "source": [
    "### Loading vocabs"
   ]
  },
  {
   "cell_type": "code",
   "execution_count": 42,
   "metadata": {},
   "outputs": [],
   "source": [
    "from dataprep import bperegistry\n",
    "from metrics.matrix import merge_similarity_rate_matrix\n",
    "from pandas import DataFrame\n",
    "\n",
    "java_bpe_vocab = bperegistry.load_base_vocab('small_chunk-10000')\n",
    "python_bpe_vocab = bperegistry.load_base_vocab('python-10000')\n",
    "c_bpe_vocab = bperegistry.load_base_vocab('c-10000')\n",
    "\n",
    "java_all_vocab = bperegistry.load_all_vocab('small_chunk-10000')\n",
    "python_all_vocab = bperegistry.load_all_vocab('python-10000')\n",
    "c_all_vocab = bperegistry.load_all_vocab('c-10000')\n",
    "\n",
    "java_nocase_bpe_vocab = bperegistry.load_base_vocab('small_chunk_nocase-10000')\n",
    "python_nocase_bpe_vocab = bperegistry.load_base_vocab('python_nocase-10000')\n",
    "c_nocase_bpe_vocab = bperegistry.load_base_vocab('c_nocase-10000')\n",
    "\n",
    "java_nocase_all_vocab = bperegistry.load_all_vocab('small_chunk_nocase-10000')\n",
    "python_nocase_all_vocab = bperegistry.load_all_vocab('python_nocase-10000')\n",
    "c_nocase_all_vocab = bperegistry.load_all_vocab('c_nocase-10000')"
   ]
  },
  {
   "cell_type": "code",
   "execution_count": 43,
   "metadata": {
    "scrolled": false
   },
   "outputs": [
    {
     "data": {
      "text/plain": [
       "[('\\\\\\\\', 1880641),\n",
       " ('n', 1133884),\n",
       " ('t', 488942),\n",
       " ('\\\\t', 319763),\n",
       " ('get', 108939),\n",
       " ('the', 107340),\n",
       " ('_', 76549),\n",
       " ('String', 63861),\n",
       " ('nimport', 61279),\n",
       " ('Exception', 42147),\n",
       " ('org', 41915),\n",
       " ('of', 36648),\n",
       " ('0', 34004),\n",
       " ('is', 33581),\n",
       " ('to', 33490),\n",
       " ('set', 33190),\n",
       " ('1', 31542),\n",
       " ('License', 30577),\n",
       " ('tpublic', 27799),\n",
       " ('a', 27661),\n",
       " ('2', 24965),\n",
       " ('Name', 22715),\n",
       " (\"\\\\'\", 22005),\n",
       " ('List', 19667),\n",
       " ('or', 19356),\n",
       " ('in', 19339),\n",
       " ('java', 18556),\n",
       " ('Id', 18171),\n",
       " ('param', 16241),\n",
       " ('treturn', 15694),\n",
       " ('value', 15614),\n",
       " ('and', 15602),\n",
       " ('add', 15198),\n",
       " ('i', 14702),\n",
       " ('Request', 14334),\n",
       " ('com', 14189),\n",
       " ('Context', 13357),\n",
       " ('Class', 13348),\n",
       " ('File', 12920),\n",
       " ('Object', 12839),\n",
       " ('not', 12626),\n",
       " ('under', 12425),\n",
       " ('tif', 12359),\n",
       " ('file', 12128),\n",
       " ('Map', 12062),\n",
       " ('The', 11932),\n",
       " ('e', 11838),\n",
       " ('Type', 11817),\n",
       " ('Test', 11796),\n",
       " ('util', 11577),\n",
       " ('Override', 11069),\n",
       " ('it', 11054),\n",
       " ('with', 11035),\n",
       " ('name', 10841),\n",
       " ('Value', 10808),\n",
       " ('tprivate', 10728),\n",
       " ('apache', 10636),\n",
       " ('Service', 10491),\n",
       " ('Connection', 10149),\n",
       " ('test', 10132),\n",
       " ('This', 10016),\n",
       " ('by', 9947),\n",
       " ('Version', 9871),\n",
       " ('model', 9618),\n",
       " ('code', 9548),\n",
       " ('Factory', 9538),\n",
       " ('distributed', 9465),\n",
       " ('be', 9451),\n",
       " ('http', 9294),\n",
       " ('Set', 9166),\n",
       " ('\\\\n', 9090),\n",
       " ('result', 9082),\n",
       " ('3', 9001),\n",
       " ('Key', 8845),\n",
       " ('request', 8784),\n",
       " ('npublic', 8758),\n",
       " ('version', 8557),\n",
       " ('on', 8457),\n",
       " ('Data', 8420),\n",
       " ('Public', 8389),\n",
       " ('See', 8265),\n",
       " ('Message', 8246),\n",
       " ('user', 8205),\n",
       " ('software', 8154),\n",
       " ('context', 8093),\n",
       " ('Model', 8052),\n",
       " ('Equals', 8021),\n",
       " ('that', 7924),\n",
       " ('create', 7816),\n",
       " ('General', 7755),\n",
       " ('ID', 7672),\n",
       " ('out', 7670),\n",
       " ('Manager', 7661),\n",
       " ('System', 7647),\n",
       " ('append', 7588),\n",
       " ('write', 7548),\n",
       " ('GNU', 7537),\n",
       " ('as', 7413),\n",
       " ('copy', 7297),\n",
       " ('Resource', 7271),\n",
       " ('Query', 7255),\n",
       " ('c', 7189),\n",
       " ('service', 7138),\n",
       " ('you', 7085),\n",
       " ('Array', 7010),\n",
       " ('s', 6948),\n",
       " ('an', 6925),\n",
       " ('A', 6912),\n",
       " ('Artifact', 6911),\n",
       " ('may', 6829),\n",
       " ('View', 6816),\n",
       " ('Listener', 6601),\n",
       " ('at', 6564),\n",
       " ('Flow', 6483),\n",
       " ('4', 6373),\n",
       " ('Event', 6364),\n",
       " ('To', 6298),\n",
       " ('ANY', 6272),\n",
       " ('author', 6246),\n",
       " ('Text', 6184),\n",
       " ('www', 6174),\n",
       " ('J', 6127),\n",
       " ('Stream', 6066),\n",
       " ('id', 6006),\n",
       " ('key', 5995),\n",
       " ('IO', 5967),\n",
       " ('p', 5944),\n",
       " ('message', 5870),\n",
       " ('springframework', 5754),\n",
       " ('Copyright', 5741),\n",
       " ('You', 5726),\n",
       " ('Source', 5697),\n",
       " ('type', 5682),\n",
       " ('Property', 5682),\n",
       " ('Session', 5657),\n",
       " ('npackage', 5624),\n",
       " ('WITHOUT', 5620),\n",
       " ('method', 5613),\n",
       " ('tthis', 5613),\n",
       " ('Software', 5607),\n",
       " ('exception', 5550),\n",
       " ('Handler', 5548),\n",
       " ('State', 5497),\n",
       " ('javax', 5488),\n",
       " ('Action', 5488),\n",
       " ('use', 5480),\n",
       " ('implied', 5456),\n",
       " ('x', 5369),\n",
       " ('size', 5308),\n",
       " ('io', 5266),\n",
       " ('m', 5239),\n",
       " ('Repository', 5195),\n",
       " ('either', 5184),\n",
       " ('link', 5184),\n",
       " ('Field', 5160),\n",
       " ('length', 5151),\n",
       " ('OF', 5148),\n",
       " ('jboss', 5146),\n",
       " ('end', 5129),\n",
       " ('Execution', 5129),\n",
       " ('equals', 5126),\n",
       " ('Lesser', 5112),\n",
       " ('Date', 5072),\n",
       " ('tassert', 5067),\n",
       " ('see', 5063),\n",
       " ('Code', 5031),\n",
       " ('Not', 4975),\n",
       " ('Path', 4893),\n",
       " ('liferay', 4873),\n",
       " ('Result', 4857),\n",
       " ('should', 4833),\n",
       " ('put', 4819),\n",
       " ('Logger', 4782),\n",
       " ('licenses', 4772),\n",
       " ('Time', 4762),\n",
       " ('OR', 4750),\n",
       " ('start', 4734),\n",
       " ('Foundation', 4717),\n",
       " ('Method', 4694),\n",
       " ('Group', 4654),\n",
       " ('will', 4632),\n",
       " ('data', 4590),\n",
       " ('Hash', 4554),\n",
       " ('Server', 4545),\n",
       " ('session', 4543),\n",
       " ('source', 4494),\n",
       " ('object', 4477),\n",
       " ('Index', 4473),\n",
       " ('j', 4410),\n",
       " ('Command', 4392),\n",
       " ('Impl', 4390),\n",
       " ('Plugin', 4387),\n",
       " ('Integer', 4387),\n",
       " ('User', 4342),\n",
       " ('IS', 4335),\n",
       " ('Domain', 4326),\n",
       " ('flow', 4312),\n",
       " ('maven', 4270),\n",
       " ('Builder', 4268),\n",
       " ('Config', 4267)]"
      ]
     },
     "execution_count": 43,
     "metadata": {},
     "output_type": "execute_result"
    }
   ],
   "source": [
    "list(java_bpe_vocab.items())[:200]"
   ]
  },
  {
   "cell_type": "code",
   "execution_count": 44,
   "metadata": {},
   "outputs": [
    {
     "data": {
      "text/plain": [
       "[('\\\\\\\\', 5050789),\n",
       " ('n', 3221967),\n",
       " ('_', 2141551),\n",
       " (\"\\\\'\", 1534342),\n",
       " ('self', 511907),\n",
       " ('\\\\t', 217064),\n",
       " ('1', 207439),\n",
       " ('the', 197437),\n",
       " ('0', 189946),\n",
       " ('name', 137381),\n",
       " ('2', 132927),\n",
       " ('to', 127392),\n",
       " ('a', 120004),\n",
       " ('is', 118939),\n",
       " ('in', 117364),\n",
       " ('module', 112276),\n",
       " ('type', 95567),\n",
       " ('test', 94931),\n",
       " ('None', 87886),\n",
       " ('of', 87883),\n",
       " ('x', 85059),\n",
       " ('get', 77428),\n",
       " ('not', 75567),\n",
       " ('s', 73069),\n",
       " ('3', 70776),\n",
       " ('True', 69080),\n",
       " ('and', 69037),\n",
       " ('Error', 62479),\n",
       " ('description', 61324),\n",
       " ('result', 59035),\n",
       " ('data', 58871),\n",
       " ('dict', 57964),\n",
       " ('False', 57683),\n",
       " ('Equal', 55747),\n",
       " ('value', 52758),\n",
       " ('str', 52715),\n",
       " ('or', 50878),\n",
       " ('b', 48141),\n",
       " ('path', 44879),\n",
       " ('list', 43963),\n",
       " ('5', 43276),\n",
       " ('params', 41616),\n",
       " ('state', 41487),\n",
       " ('be', 40961),\n",
       " ('default', 40519),\n",
       " ('set', 38323),\n",
       " ('np', 38127),\n",
       " ('4', 37726),\n",
       " ('nfrom', 35580),\n",
       " ('f', 35243),\n",
       " ('c', 35197),\n",
       " ('id', 35104),\n",
       " ('key', 34944),\n",
       " ('check', 34599),\n",
       " ('required', 33381),\n",
       " ('index', 32760),\n",
       " ('X', 32447),\n",
       " ('msg', 31322),\n",
       " ('file', 30999),\n",
       " ('args', 30241),\n",
       " ('The', 29955),\n",
       " ('expected', 28547),\n",
       " ('d', 28193),\n",
       " ('y', 27698),\n",
       " ('json', 27528),\n",
       " ('C', 27215),\n",
       " ('Test', 27121),\n",
       " ('e', 27101),\n",
       " ('on', 27063),\n",
       " ('t', 26654),\n",
       " ('that', 26640),\n",
       " ('ndef', 26306),\n",
       " ('version', 26154),\n",
       " ('values', 25880),\n",
       " ('by', 25527),\n",
       " ('int', 25066),\n",
       " ('changed', 24667),\n",
       " ('i', 24513),\n",
       " ('format', 24169),\n",
       " ('object', 24047),\n",
       " ('config', 23619),\n",
       " ('r', 23298),\n",
       " ('ansible', 23294),\n",
       " ('equal', 23248),\n",
       " ('df', 23234),\n",
       " ('A', 23167),\n",
       " ('8', 23120),\n",
       " ('6', 22868),\n",
       " ('response', 22761),\n",
       " ('10', 22592),\n",
       " ('group', 22527),\n",
       " ('os', 22381),\n",
       " ('array', 21968),\n",
       " ('this', 21514),\n",
       " ('dtype', 21432),\n",
       " ('all', 21227),\n",
       " ('it', 20881),\n",
       " ('server', 20827),\n",
       " ('spec', 20509),\n",
       " ('00', 20272),\n",
       " ('len', 20213),\n",
       " ('create', 20182),\n",
       " ('new', 19866),\n",
       " ('utils', 19670),\n",
       " ('append', 19443),\n",
       " ('Ansible', 19442),\n",
       " ('client', 19272),\n",
       " ('are', 19255),\n",
       " ('host', 19196),\n",
       " ('mode', 18499),\n",
       " ('an', 18474),\n",
       " ('obj', 18306),\n",
       " ('user', 18096),\n",
       " ('argument', 18058),\n",
       " ('v', 18026),\n",
       " ('Module', 17864),\n",
       " ('u', 17770),\n",
       " ('string', 17735),\n",
       " ('returned', 17721),\n",
       " ('add', 17676),\n",
       " ('fail', 17312),\n",
       " ('no', 17092),\n",
       " ('sample', 17069),\n",
       " ('p', 16961),\n",
       " ('present', 16960),\n",
       " ('network', 16832),\n",
       " ('choices', 16805),\n",
       " ('field', 16556),\n",
       " ('If', 16502),\n",
       " ('will', 16380),\n",
       " ('update', 16313),\n",
       " ('password', 16302),\n",
       " ('nclass', 15954),\n",
       " ('nimport', 15875),\n",
       " ('This', 15842),\n",
       " ('size', 15755),\n",
       " ('model', 15689),\n",
       " ('Value', 15666),\n",
       " ('text', 15510),\n",
       " ('foo', 15280),\n",
       " ('output', 15279),\n",
       " ('range', 15277),\n",
       " ('command', 15244),\n",
       " ('method', 15098),\n",
       " ('time', 15095),\n",
       " ('error', 15045),\n",
       " ('objects', 14977),\n",
       " ('datetime', 14975),\n",
       " ('7', 14764),\n",
       " ('kwargs', 14562),\n",
       " ('Raises', 14527),\n",
       " ('can', 14488),\n",
       " ('port', 14440),\n",
       " ('shape', 14430),\n",
       " ('tm', 14339),\n",
       " ('max', 14304),\n",
       " ('mock', 14251),\n",
       " ('use', 14093),\n",
       " ('main', 14076),\n",
       " ('request', 13915),\n",
       " ('status', 13896),\n",
       " ('instance', 13887),\n",
       " ('line', 13784),\n",
       " ('init', 13753),\n",
       " ('address', 13734),\n",
       " ('url', 13634),\n",
       " ('Index', 13423),\n",
       " ('Type', 13359),\n",
       " ('info', 13268),\n",
       " ('connection', 13230),\n",
       " ('m', 13108),\n",
       " ('function', 13062),\n",
       " ('bool', 12946),\n",
       " ('Data', 12937),\n",
       " ('used', 12928),\n",
       " ('run', 12900),\n",
       " ('ip', 12841),\n",
       " ('match', 12812),\n",
       " ('should', 12772),\n",
       " ('other', 12685),\n",
       " ('models', 12593),\n",
       " ('when', 12579),\n",
       " ('01', 12527),\n",
       " ('code', 12462),\n",
       " ('frame', 12390),\n",
       " ('pd', 12385),\n",
       " ('pytest', 12377),\n",
       " ('random', 12365),\n",
       " ('64', 12342),\n",
       " ('sys', 12170),\n",
       " ('com', 12012),\n",
       " ('9', 11987),\n",
       " ('\\\\n', 11956),\n",
       " ('start', 11947),\n",
       " ('read', 11911),\n",
       " ('https', 11902),\n",
       " ('results', 11894),\n",
       " ('cmd', 11821),\n",
       " ('input', 11721),\n",
       " ('have', 11707)]"
      ]
     },
     "execution_count": 44,
     "metadata": {},
     "output_type": "execute_result"
    }
   ],
   "source": [
    "list(python_bpe_vocab.items())[:200]"
   ]
  },
  {
   "cell_type": "code",
   "execution_count": 45,
   "metadata": {},
   "outputs": [
    {
     "data": {
      "text/plain": [
       "[('\\\\\\\\', 16840145),\n",
       " ('_', 7596271),\n",
       " ('n', 7531353),\n",
       " ('t', 5777498),\n",
       " ('0', 1003819),\n",
       " ('x', 560986),\n",
       " ('\\\\t', 487831),\n",
       " ('tif', 426522),\n",
       " ('1', 381609),\n",
       " ('the', 333974),\n",
       " ('2', 325263),\n",
       " ('treturn', 260662),\n",
       " ('dev', 255920),\n",
       " ('i', 246728),\n",
       " ('to', 223360),\n",
       " ('nstatic', 207303),\n",
       " ('tstruct', 156039),\n",
       " ('data', 145395),\n",
       " ('3', 139210),\n",
       " ('4', 131559),\n",
       " ('p', 131009),\n",
       " ('s', 126695),\n",
       " ('h', 124464),\n",
       " ('is', 119234),\n",
       " ('device', 119054),\n",
       " ('0x00', 117527),\n",
       " ('of', 116942),\n",
       " ('32', 116044),\n",
       " ('a', 114089),\n",
       " ('8', 113436),\n",
       " ('include', 109705),\n",
       " ('d', 102598),\n",
       " ('c', 102308),\n",
       " ('in', 99357),\n",
       " (\"\\\\'\", 99278),\n",
       " ('lock', 99030),\n",
       " ('info', 97579),\n",
       " ('tint', 94022),\n",
       " ('and', 93588),\n",
       " ('u', 92819),\n",
       " ('NULL', 92492),\n",
       " ('00', 86579),\n",
       " ('flags', 85326),\n",
       " ('define', 81467),\n",
       " ('tcase', 80298),\n",
       " ('len', 77907),\n",
       " ('set', 76541),\n",
       " ('size', 76022),\n",
       " ('addr', 75307),\n",
       " ('16', 74868),\n",
       " ('port', 74310),\n",
       " ('get', 71993),\n",
       " ('name', 71523),\n",
       " ('state', 69902),\n",
       " ('init', 69831),\n",
       " ('tbreak', 69128),\n",
       " ('write', 68420),\n",
       " ('linux', 67530),\n",
       " ('buf', 67405),\n",
       " ('err', 66148),\n",
       " ('read', 65855),\n",
       " ('id', 63939),\n",
       " ('6', 63240),\n",
       " ('tgoto', 61892),\n",
       " ('priv', 60813),\n",
       " ('skb', 60766),\n",
       " ('be', 60662),\n",
       " ('status', 60391),\n",
       " ('5', 57101),\n",
       " ('reg', 56945),\n",
       " ('type', 56563),\n",
       " ('buffer', 54682),\n",
       " ('out', 53904),\n",
       " ('this', 53399),\n",
       " ('irq', 53397),\n",
       " ('list', 53152),\n",
       " ('it', 52968),\n",
       " ('we', 52662),\n",
       " ('inode', 52516),\n",
       " ('count', 52128),\n",
       " ('file', 51723),\n",
       " ('tunsigned', 50643),\n",
       " ('cpu', 50135),\n",
       " ('S', 49476),\n",
       " ('ret', 49370),\n",
       " ('C', 48925),\n",
       " ('driver', 46233),\n",
       " ('tu', 46164),\n",
       " ('mode', 45557),\n",
       " ('tprintk', 45300),\n",
       " ('snd', 45115),\n",
       " ('start', 45064),\n",
       " ('page', 45034),\n",
       " ('tx', 44491),\n",
       " ('cmd', 44307),\n",
       " ('value', 43312),\n",
       " ('b', 42875),\n",
       " ('on', 42404),\n",
       " ('free', 42269),\n",
       " ('7', 41806),\n",
       " ('error', 41696),\n",
       " ('rx', 41648),\n",
       " ('pci', 41037),\n",
       " ('not', 40333),\n",
       " ('or', 40312),\n",
       " ('tspin', 40223),\n",
       " ('KERN', 40097),\n",
       " ('hw', 39895),\n",
       " ('B', 39044),\n",
       " ('unlock', 38960),\n",
       " ('A', 38654),\n",
       " ('from', 38508),\n",
       " ('entry', 38437),\n",
       " ('endif', 38319),\n",
       " ('net', 38311),\n",
       " ('dma', 38102),\n",
       " ('tfor', 37396),\n",
       " ('tp', 37346),\n",
       " ('offset', 37137),\n",
       " ('chip', 36187),\n",
       " ('that', 35989),\n",
       " ('64', 35972),\n",
       " ('base', 35927),\n",
       " ('e', 35468),\n",
       " ('node', 35421),\n",
       " ('user', 35115),\n",
       " ('card', 34657),\n",
       " ('telse', 34644),\n",
       " ('val', 34605),\n",
       " ('0x0000', 34562),\n",
       " ('host', 34298),\n",
       " ('PCI', 34008),\n",
       " ('F', 33818),\n",
       " ('bit', 33518),\n",
       " ('new', 33378),\n",
       " ('by', 33235),\n",
       " ('This', 32907),\n",
       " ('REG', 32841),\n",
       " ('10', 32811),\n",
       " ('with', 32740),\n",
       " ('f', 32492),\n",
       " ('block', 32167),\n",
       " ('queue', 32039),\n",
       " ('ptr', 31611),\n",
       " ('SIZE', 31498),\n",
       " ('sk', 31286),\n",
       " ('DEBUG', 30920),\n",
       " ('ERR', 30844),\n",
       " ('next', 30796),\n",
       " ('9', 30786),\n",
       " ('tdev', 30547),\n",
       " ('attr', 30154),\n",
       " ('index', 30153),\n",
       " ('mask', 29888),\n",
       " ('I', 29828),\n",
       " ('ID', 29624),\n",
       " ('adapter', 29021),\n",
       " ('table', 28727),\n",
       " ('m', 28693),\n",
       " ('length', 28508),\n",
       " ('are', 28395),\n",
       " ('ops', 28265),\n",
       " ('max', 28262),\n",
       " ('regs', 28070),\n",
       " ('usb', 28062),\n",
       " ('tret', 27776),\n",
       " ('r', 27351),\n",
       " ('l', 27292),\n",
       " ('address', 27069),\n",
       " ('num', 26491),\n",
       " ('D', 26388),\n",
       " ('terr', 26358),\n",
       " ('config', 26255),\n",
       " ('bus', 26037),\n",
       " ('request', 25999),\n",
       " ('CONFIG', 25966),\n",
       " ('end', 25934),\n",
       " ('E', 25783),\n",
       " ('req', 25135),\n",
       " ('msg', 24916),\n",
       " ('X', 24498),\n",
       " ('timer', 24492),\n",
       " ('can', 24484),\n",
       " ('sb', 24457),\n",
       " ('ifdef', 24374),\n",
       " ('at', 24305),\n",
       " ('as', 24277),\n",
       " ('The', 24099),\n",
       " ('map', 23888),\n",
       " ('key', 23806),\n",
       " ('rc', 23741),\n",
       " ('R', 23691),\n",
       " ('pdev', 23644),\n",
       " ('MAX', 23595),\n",
       " ('MODULE', 23590),\n",
       " ('Ad', 23443),\n",
       " ('no', 23210),\n",
       " ('v', 23012),\n",
       " ('j', 22873),\n",
       " ('desc', 22749)]"
      ]
     },
     "execution_count": 45,
     "metadata": {},
     "output_type": "execute_result"
    }
   ],
   "source": [
    "list(c_bpe_vocab.items())[:200]"
   ]
  },
  {
   "cell_type": "markdown",
   "metadata": {},
   "source": [
    "### Metric 3. Merge similarity rate matrix"
   ]
  },
  {
   "cell_type": "code",
   "execution_count": 46,
   "metadata": {},
   "outputs": [
    {
     "name": "stdout",
     "output_type": "stream",
     "text": [
      "N merges: 1k, case, without keywords and operators\n"
     ]
    },
    {
     "data": {
      "text/html": [
       "<div>\n",
       "<style scoped>\n",
       "    .dataframe tbody tr th:only-of-type {\n",
       "        vertical-align: middle;\n",
       "    }\n",
       "\n",
       "    .dataframe tbody tr th {\n",
       "        vertical-align: top;\n",
       "    }\n",
       "\n",
       "    .dataframe thead th {\n",
       "        text-align: right;\n",
       "    }\n",
       "</style>\n",
       "<table border=\"1\" class=\"dataframe\">\n",
       "  <thead>\n",
       "    <tr style=\"text-align: right;\">\n",
       "      <th></th>\n",
       "      <th>0</th>\n",
       "      <th>1</th>\n",
       "      <th>2</th>\n",
       "    </tr>\n",
       "  </thead>\n",
       "  <tbody>\n",
       "    <tr>\n",
       "      <th>0</th>\n",
       "      <td>1.000</td>\n",
       "      <td>0.720</td>\n",
       "      <td>0.673</td>\n",
       "    </tr>\n",
       "    <tr>\n",
       "      <th>1</th>\n",
       "      <td>0.737</td>\n",
       "      <td>1.000</td>\n",
       "      <td>0.751</td>\n",
       "    </tr>\n",
       "    <tr>\n",
       "      <th>2</th>\n",
       "      <td>0.753</td>\n",
       "      <td>0.784</td>\n",
       "      <td>1.000</td>\n",
       "    </tr>\n",
       "  </tbody>\n",
       "</table>\n",
       "</div>"
      ],
      "text/plain": [
       "       0      1      2\n",
       "0  1.000  0.720  0.673\n",
       "1  0.737  1.000  0.751\n",
       "2  0.753  0.784  1.000"
      ]
     },
     "execution_count": 46,
     "metadata": {},
     "output_type": "execute_result"
    }
   ],
   "source": [
    "n_merges = 1000\n",
    "print(f\"N merges: {n_merges//1000}k, case, without keywords and operators\")\n",
    "m = merge_similarity_rate_matrix([java_bpe_vocab, python_bpe_vocab, c_bpe_vocab], \n",
    "                                 [java_merges[:n_merges], python_merges[:n_merges], c_merges[:n_merges]])\n",
    "\n",
    "DataFrame(m).round(3)"
   ]
  },
  {
   "cell_type": "code",
   "execution_count": 47,
   "metadata": {},
   "outputs": [
    {
     "name": "stdout",
     "output_type": "stream",
     "text": [
      "N merges: 1k, case, including keywords and operators\n"
     ]
    },
    {
     "data": {
      "text/html": [
       "<div>\n",
       "<style scoped>\n",
       "    .dataframe tbody tr th:only-of-type {\n",
       "        vertical-align: middle;\n",
       "    }\n",
       "\n",
       "    .dataframe tbody tr th {\n",
       "        vertical-align: top;\n",
       "    }\n",
       "\n",
       "    .dataframe thead th {\n",
       "        text-align: right;\n",
       "    }\n",
       "</style>\n",
       "<table border=\"1\" class=\"dataframe\">\n",
       "  <thead>\n",
       "    <tr style=\"text-align: right;\">\n",
       "      <th></th>\n",
       "      <th>0</th>\n",
       "      <th>1</th>\n",
       "      <th>2</th>\n",
       "    </tr>\n",
       "  </thead>\n",
       "  <tbody>\n",
       "    <tr>\n",
       "      <th>0</th>\n",
       "      <td>1.000</td>\n",
       "      <td>0.814</td>\n",
       "      <td>0.785</td>\n",
       "    </tr>\n",
       "    <tr>\n",
       "      <th>1</th>\n",
       "      <td>0.822</td>\n",
       "      <td>1.000</td>\n",
       "      <td>0.832</td>\n",
       "    </tr>\n",
       "    <tr>\n",
       "      <th>2</th>\n",
       "      <td>0.837</td>\n",
       "      <td>0.860</td>\n",
       "      <td>1.000</td>\n",
       "    </tr>\n",
       "  </tbody>\n",
       "</table>\n",
       "</div>"
      ],
      "text/plain": [
       "       0      1      2\n",
       "0  1.000  0.814  0.785\n",
       "1  0.822  1.000  0.832\n",
       "2  0.837  0.860  1.000"
      ]
     },
     "execution_count": 47,
     "metadata": {},
     "output_type": "execute_result"
    }
   ],
   "source": [
    "n_merges = 1000\n",
    "print(f\"N merges: {n_merges//1000}k, case, including keywords and operators\")\n",
    "m = merge_similarity_rate_matrix([java_all_vocab, python_all_vocab, c_all_vocab], \n",
    "                                 [java_merges[:n_merges], python_merges[:n_merges], c_merges[:n_merges]])\n",
    "\n",
    "DataFrame(m).round(3)"
   ]
  },
  {
   "cell_type": "code",
   "execution_count": 48,
   "metadata": {},
   "outputs": [
    {
     "name": "stdout",
     "output_type": "stream",
     "text": [
      "N merges: 10k, NO case, without keywords and operators\n"
     ]
    },
    {
     "data": {
      "text/html": [
       "<div>\n",
       "<style scoped>\n",
       "    .dataframe tbody tr th:only-of-type {\n",
       "        vertical-align: middle;\n",
       "    }\n",
       "\n",
       "    .dataframe tbody tr th {\n",
       "        vertical-align: top;\n",
       "    }\n",
       "\n",
       "    .dataframe thead th {\n",
       "        text-align: right;\n",
       "    }\n",
       "</style>\n",
       "<table border=\"1\" class=\"dataframe\">\n",
       "  <thead>\n",
       "    <tr style=\"text-align: right;\">\n",
       "      <th></th>\n",
       "      <th>0</th>\n",
       "      <th>1</th>\n",
       "      <th>2</th>\n",
       "    </tr>\n",
       "  </thead>\n",
       "  <tbody>\n",
       "    <tr>\n",
       "      <th>0</th>\n",
       "      <td>1.000</td>\n",
       "      <td>0.939</td>\n",
       "      <td>0.897</td>\n",
       "    </tr>\n",
       "    <tr>\n",
       "      <th>1</th>\n",
       "      <td>0.935</td>\n",
       "      <td>1.000</td>\n",
       "      <td>0.916</td>\n",
       "    </tr>\n",
       "    <tr>\n",
       "      <th>2</th>\n",
       "      <td>0.890</td>\n",
       "      <td>0.893</td>\n",
       "      <td>1.000</td>\n",
       "    </tr>\n",
       "  </tbody>\n",
       "</table>\n",
       "</div>"
      ],
      "text/plain": [
       "       0      1      2\n",
       "0  1.000  0.939  0.897\n",
       "1  0.935  1.000  0.916\n",
       "2  0.890  0.893  1.000"
      ]
     },
     "execution_count": 48,
     "metadata": {},
     "output_type": "execute_result"
    }
   ],
   "source": [
    "n_merges = 10000\n",
    "print(f\"N merges: {n_merges//1000}k, NO case, without keywords and operators\")\n",
    "m = merge_similarity_rate_matrix([java_nocase_bpe_vocab, python_nocase_bpe_vocab, c_nocase_bpe_vocab], \n",
    "                                 [java_nocase_merges[:n_merges], python_nocase_merges[:n_merges], c_nocase_merges[:n_merges]])\n",
    "\n",
    "DataFrame(m).round(3)"
   ]
  },
  {
   "cell_type": "code",
   "execution_count": 49,
   "metadata": {},
   "outputs": [
    {
     "name": "stdout",
     "output_type": "stream",
     "text": [
      "N merges: 10k, NO case, including keywords and operators\n"
     ]
    },
    {
     "data": {
      "text/html": [
       "<div>\n",
       "<style scoped>\n",
       "    .dataframe tbody tr th:only-of-type {\n",
       "        vertical-align: middle;\n",
       "    }\n",
       "\n",
       "    .dataframe tbody tr th {\n",
       "        vertical-align: top;\n",
       "    }\n",
       "\n",
       "    .dataframe thead th {\n",
       "        text-align: right;\n",
       "    }\n",
       "</style>\n",
       "<table border=\"1\" class=\"dataframe\">\n",
       "  <thead>\n",
       "    <tr style=\"text-align: right;\">\n",
       "      <th></th>\n",
       "      <th>0</th>\n",
       "      <th>1</th>\n",
       "      <th>2</th>\n",
       "    </tr>\n",
       "  </thead>\n",
       "  <tbody>\n",
       "    <tr>\n",
       "      <th>0</th>\n",
       "      <td>1.000</td>\n",
       "      <td>0.957</td>\n",
       "      <td>0.917</td>\n",
       "    </tr>\n",
       "    <tr>\n",
       "      <th>1</th>\n",
       "      <td>0.953</td>\n",
       "      <td>1.000</td>\n",
       "      <td>0.935</td>\n",
       "    </tr>\n",
       "    <tr>\n",
       "      <th>2</th>\n",
       "      <td>0.891</td>\n",
       "      <td>0.894</td>\n",
       "      <td>1.000</td>\n",
       "    </tr>\n",
       "  </tbody>\n",
       "</table>\n",
       "</div>"
      ],
      "text/plain": [
       "       0      1      2\n",
       "0  1.000  0.957  0.917\n",
       "1  0.953  1.000  0.935\n",
       "2  0.891  0.894  1.000"
      ]
     },
     "execution_count": 49,
     "metadata": {},
     "output_type": "execute_result"
    }
   ],
   "source": [
    "n_merges = 10000\n",
    "print(f\"N merges: {n_merges//1000}k, NO case, including keywords and operators\")\n",
    "m = merge_similarity_rate_matrix([java_nocase_all_vocab, python_nocase_all_vocab, c_nocase_all_vocab], \n",
    "                                 [java_nocase_merges[:n_merges], python_nocase_merges[:n_merges], c_nocase_merges[:n_merges]])\n",
    "\n",
    "DataFrame(m).round(3)"
   ]
  },
  {
   "cell_type": "markdown",
   "metadata": {},
   "source": [
    "### Metric 4. Corpora sizes"
   ]
  },
  {
   "cell_type": "markdown",
   "metadata": {},
   "source": [
    "### prep with 5K merges"
   ]
  },
  {
   "cell_type": "code",
   "execution_count": 58,
   "metadata": {},
   "outputs": [],
   "source": [
    "java_java_path = \"/home/lv71161/hlibbabii/raw_datasets/allamanis/small_chunk_19-05-22T17-59-55_preprocessed_00900_small_chunk-5000\"\n",
    "java_python_path = \"/home/lv71161/hlibbabii/raw_datasets/allamanis/small_chunk_19-05-22T17-59-55_preprocessed_00900_python-5000\"\n",
    "java_c_path = \"/home/lv71161/hlibbabii/raw_datasets/allamanis/small_chunk_19-05-22T17-59-55_preprocessed_00900_c-5000\"\n",
    "\n",
    "python_java_path = \"/home/lv71161/hlibbabii/raw_datasets/python_19-05-20T00-48-25_preprocessed_00900_small_chunk-5000\"\n",
    "python_python_path = \"/home/lv71161/hlibbabii/raw_datasets/python_19-05-20T00-48-25_preprocessed_00900_python-5000\"\n",
    "python_c_path = \"/home/lv71161/hlibbabii/raw_datasets/python_19-05-20T00-48-25_preprocessed_00900_c-5000\"\n",
    "\n",
    "c_java_path = \"/home/lv71161/hlibbabii/raw_datasets/c_19-05-24T08-55-52_preprocessed_00900_small_chunk-5000\"\n",
    "c_python_path = \"/home/lv71161/hlibbabii/raw_datasets/c_19-05-24T08-55-52_preprocessed_00900_python-5000\"\n",
    "c_c_path= \"/home/lv71161/hlibbabii/raw_datasets/c_19-05-24T08-55-52_preprocessed_00900_c-5000\""
   ]
  },
  {
   "cell_type": "code",
   "execution_count": 51,
   "metadata": {},
   "outputs": [
    {
     "name": "stdout",
     "output_type": "stream",
     "text": [
      "java corpus prep with bpe codes learn on the corpora: java, python, c; CASE\n",
      "16646436 (1.000)\n",
      "18744497 (1.126)\n",
      "20742165 (1.246)\n"
     ]
    }
   ],
   "source": [
    "%%bash -s \"$java_java_path\" \"$java_python_path\" \"$java_c_path\"\n",
    "echo \"java corpus prep with bpe codes learn on the corpora: java, python, c; CASE\"\n",
    "source \"$HOME/.bashrc\"\n",
    "n1=$(tc \"$1\")\n",
    "n2=$(tc \"$2\")\n",
    "n3=$(tc \"$3\")\n",
    "n=$n1\n",
    "for ni in $n1 $n2 $n3; do\n",
    "    echo \"print(f\\\"${ni} ({${ni}/${n}:.3f})\\\")\" | python\n",
    "done"
   ]
  },
  {
   "cell_type": "code",
   "execution_count": 52,
   "metadata": {},
   "outputs": [
    {
     "name": "stdout",
     "output_type": "stream",
     "text": [
      "python corpus prep with bpe codes learn on the corpora: java, python, c; CASE\n",
      "56605830 (1.164)\n",
      "48636302 (1.000)\n",
      "57059920 (1.173)\n"
     ]
    }
   ],
   "source": [
    "%%bash -s \"$python_java_path\" \"$python_python_path\" \"$python_c_path\"\n",
    "echo \"python corpus prep with bpe codes learn on the corpora: java, python, c; CASE\"\n",
    "source \"$HOME/.bashrc\"\n",
    "n1=$(tc \"$1\")\n",
    "n2=$(tc \"$2\")\n",
    "n3=$(tc \"$3\")\n",
    "n=$n2\n",
    "for ni in $n1 $n2 $n3; do\n",
    "    echo \"print(f\\\"${ni} ({${ni}/${n}:.3f})\\\")\" | python\n",
    "done"
   ]
  },
  {
   "cell_type": "code",
   "execution_count": 53,
   "metadata": {},
   "outputs": [
    {
     "name": "stdout",
     "output_type": "stream",
     "text": [
      "c corpus prep with bpe codes learn on the corpora: java, python, c; CASE\n",
      "150253792 (1.162)\n",
      "148516447 (1.149)\n",
      "129288362 (1.000)\n"
     ]
    }
   ],
   "source": [
    "%%bash -s \"$c_java_path\" \"$c_python_path\" \"$c_c_path\"\n",
    "echo \"c corpus prep with bpe codes learn on the corpora: java, python, c; CASE\"\n",
    "source \"$HOME/.bashrc\"\n",
    "n1=$(tc \"$1\")\n",
    "n2=$(tc \"$2\")\n",
    "n3=$(tc \"$3\")\n",
    "n=$n3\n",
    "for ni in $n1 $n2 $n3; do\n",
    "    echo \"print(f\\\"${ni} ({${ni}/${n}:.3f})\\\")\" | python\n",
    "done"
   ]
  },
  {
   "cell_type": "markdown",
   "metadata": {},
   "source": [
    "### prep with 10K merges"
   ]
  },
  {
   "cell_type": "code",
   "execution_count": 60,
   "metadata": {},
   "outputs": [],
   "source": [
    "java_java_path = \"/home/lv71161/hlibbabii/raw_datasets/allamanis/small_chunk_19-05-22T17-59-55_preprocessed_00900_small_chunk-10000\"\n",
    "java_python_path = \"/home/lv71161/hlibbabii/raw_datasets/allamanis/small_chunk_19-05-22T17-59-55_preprocessed_00900_python-10000\"\n",
    "java_c_path = \"/home/lv71161/hlibbabii/raw_datasets/allamanis/small_chunk_19-05-22T17-59-55_preprocessed_00900_c-10000\"\n",
    "\n",
    "python_java_path = \"/home/lv71161/hlibbabii/raw_datasets/python_19-05-20T00-48-25_preprocessed_00900_small_chunk-10000\"\n",
    "python_python_path = \"/home/lv71161/hlibbabii/raw_datasets/python_19-05-20T00-48-25_preprocessed_00900_python-10000\"\n",
    "python_c_path = \"/home/lv71161/hlibbabii/raw_datasets/python_19-05-20T00-48-25_preprocessed_00900_c-10000\"\n",
    "\n",
    "c_java_path = \"/home/lv71161/hlibbabii/raw_datasets/c_19-05-24T08-55-52_preprocessed_00900_small_chunk-10000\"\n",
    "c_python_path = \"/home/lv71161/hlibbabii/raw_datasets/c_19-05-24T08-55-52_preprocessed_00900_python-10000\"\n",
    "c_c_path= \"/home/lv71161/hlibbabii/raw_datasets/c_19-05-24T08-55-52_preprocessed_00900_c-10000\""
   ]
  },
  {
   "cell_type": "code",
   "execution_count": 61,
   "metadata": {},
   "outputs": [
    {
     "name": "stdout",
     "output_type": "stream",
     "text": [
      "java corpus prep with bpe codes learn on the corpora: java, python, c; CASE\n",
      "15776027 (1.000)\n",
      "17508868 (1.110)\n",
      "19036770 (1.207)\n"
     ]
    }
   ],
   "source": [
    "%%bash -s \"$java_java_path\" \"$java_python_path\" \"$java_c_path\"\n",
    "echo \"java corpus prep with bpe codes learn on the corpora: java, python, c; CASE\"\n",
    "source \"$HOME/.bashrc\"\n",
    "n1=$(tc \"$1\")\n",
    "n2=$(tc \"$2\")\n",
    "n3=$(tc \"$3\")\n",
    "n=$n1\n",
    "for ni in $n1 $n2 $n3; do\n",
    "    echo \"print(f\\\"${ni} ({${ni}/${n}:.3f})\\\")\" | python\n",
    "done"
   ]
  },
  {
   "cell_type": "code",
   "execution_count": 65,
   "metadata": {},
   "outputs": [
    {
     "name": "stdout",
     "output_type": "stream",
     "text": [
      "python corpus prep with bpe codes learn on the corpora: java, python, c; CASE\n",
      "51359176 (1.113)\n",
      "46159411 (1.000)\n",
      "52852048 (1.145)\n"
     ]
    }
   ],
   "source": [
    "%%bash -s \"$python_java_path\" \"$python_python_path\" \"$python_c_path\"\n",
    "echo \"python corpus prep with bpe codes learn on the corpora: java, python, c; CASE\"\n",
    "source \"$HOME/.bashrc\"\n",
    "n1=$(tc \"$1\")\n",
    "n2=$(tc \"$2\")\n",
    "n3=$(tc \"$3\")\n",
    "n=$n2\n",
    "for ni in $n1 $n2 $n3; do\n",
    "    echo \"print(f\\\"${ni} ({${ni}/${n}:.3f})\\\")\" | python\n",
    "done"
   ]
  },
  {
   "cell_type": "code",
   "execution_count": 63,
   "metadata": {},
   "outputs": [
    {
     "name": "stdout",
     "output_type": "stream",
     "text": [
      "c corpus prep with bpe codes learn on the corpora: java, python, c; CASE\n",
      "140787203 (1.144)\n",
      "140231349 (1.139)\n",
      "123069450 (1.000)\n"
     ]
    }
   ],
   "source": [
    "%%bash -s \"$c_java_path\" \"$c_python_path\" \"$c_c_path\"\n",
    "echo \"c corpus prep with bpe codes learn on the corpora: java, python, c; CASE\"\n",
    "source \"$HOME/.bashrc\"\n",
    "n1=$(tc \"$1\")\n",
    "n2=$(tc \"$2\")\n",
    "n3=$(tc \"$3\")\n",
    "n=$n3\n",
    "for ni in $n1 $n2 $n3; do\n",
    "    echo \"print(f\\\"${ni} ({${ni}/${n}:.3f})\\\")\" | python\n",
    "done"
   ]
  },
  {
   "cell_type": "markdown",
   "metadata": {},
   "source": [
    "### prep with 10K merges, NO case"
   ]
  },
  {
   "cell_type": "code",
   "execution_count": 54,
   "metadata": {},
   "outputs": [],
   "source": [
    "java_java_nocase_path=\"/home/lv71161/hlibbabii/raw_datasets/allamanis/small_chunk_nocase_19-05-24T19-40-05_preprocessed_00901_small_chunk_nocase-10000\"\n",
    "java_python_nocase_path=\"/home/lv71161/hlibbabii/raw_datasets/allamanis/small_chunk_nocase_19-05-24T19-40-05_preprocessed_00901_python_nocase-10000\"\n",
    "java_c_nocase_path=\"/home/lv71161/hlibbabii/raw_datasets/allamanis/small_chunk_nocase_19-05-24T19-40-05_preprocessed_00901_c_nocase-10000\"\n",
    "\n",
    "python_java_nocase_path=\"/home/lv71161/hlibbabii/raw_datasets/python_nocase_19-05-24T19-41-52_preprocessed_00901_small_chunk_nocase-10000\"\n",
    "python_python_nocase_path=\"/home/lv71161/hlibbabii/raw_datasets/python_nocase_19-05-24T19-41-52_preprocessed_00901_python_nocase-10000\"\n",
    "python_c_nocase_path=\"/home/lv71161/hlibbabii/raw_datasets/python_nocase_19-05-24T19-41-52_preprocessed_00901_c_nocase-10000\"\n",
    "\n",
    "c_java_nocase_path=\"/home/lv71161/hlibbabii/raw_datasets/c_nocase_19-05-24T19-41-10_preprocessed_00901_small_chunk_nocase-10000\"\n",
    "c_python_nocase_path=\"/home/lv71161/hlibbabii/raw_datasets/c_nocase_19-05-24T19-41-10_preprocessed_00901_python_nocase-10000\"\n",
    "c_c_nocase_path=\"/home/lv71161/hlibbabii/raw_datasets/c_nocase_19-05-24T19-41-10_preprocessed_00901_c_nocase-10000\""
   ]
  },
  {
   "cell_type": "code",
   "execution_count": 55,
   "metadata": {},
   "outputs": [
    {
     "name": "stdout",
     "output_type": "stream",
     "text": [
      "java corpus prep with bpe codes learn on the corpora: java, python, c; NO case\n",
      "17532443 (1.000)\n",
      "18533237 (1.057)\n",
      "19495142 (1.112)\n"
     ]
    }
   ],
   "source": [
    "%%bash -s \"$java_java_nocase_path\" \"$java_python_nocase_path\" \"$java_c_nocase_path\"\n",
    "echo \"java corpus prep with bpe codes learn on the corpora: java, python, c; NO case\"\n",
    "source \"$HOME/.bashrc\"\n",
    "n1=$(tc \"$1\")\n",
    "n2=$(tc \"$2\")\n",
    "n3=$(tc \"$3\")\n",
    "n=$n1\n",
    "for ni in $n1 $n2 $n3; do\n",
    "    echo \"print(f\\\"${ni} ({${ni}/${n}:.3f})\\\")\" | python\n",
    "done"
   ]
  },
  {
   "cell_type": "code",
   "execution_count": 56,
   "metadata": {},
   "outputs": [
    {
     "name": "stdout",
     "output_type": "stream",
     "text": [
      "python corpus prep with bpe codes learn on the corpora: java, python, c; NO case\n",
      "103404272 (1.100)\n",
      "94029664 (1.000)\n",
      "104268904 (1.109)\n"
     ]
    }
   ],
   "source": [
    "%%bash -s \"$python_java_nocase_path\" \"$python_python_nocase_path\" \"$python_c_nocase_path\"\n",
    "echo \"python corpus prep with bpe codes learn on the corpora: java, python, c; NO case\"\n",
    "source \"$HOME/.bashrc\"\n",
    "n1=$(tc \"$1\")\n",
    "n2=$(tc \"$2\")\n",
    "n3=$(tc \"$3\")\n",
    "n=$n2\n",
    "for ni in $n1 $n2 $n3; do\n",
    "    echo \"print(f\\\"${ni} ({${ni}/${n}:.3f})\\\")\" | python\n",
    "done"
   ]
  },
  {
   "cell_type": "code",
   "execution_count": 57,
   "metadata": {},
   "outputs": [
    {
     "name": "stdout",
     "output_type": "stream",
     "text": [
      "c corpus prep with bpe codes learn on the corpora: java, python, c; NO case\n",
      "140329184 (1.113)\n",
      "140093125 (1.111)\n",
      "126129377 (1.000)\n"
     ]
    }
   ],
   "source": [
    "%%bash -s \"$c_java_nocase_path\" \"$c_python_nocase_path\" \"$c_c_nocase_path\"\n",
    "echo \"c corpus prep with bpe codes learn on the corpora: java, python, c; NO case\"\n",
    "source \"$HOME/.bashrc\"\n",
    "n1=$(tc \"$1\")\n",
    "n2=$(tc \"$2\")\n",
    "n3=$(tc \"$3\")\n",
    "n=$n3\n",
    "for ni in $n1 $n2 $n3; do\n",
    "    echo \"print(f\\\"${ni} ({${ni}/${n}:.3f})\\\")\" | python\n",
    "done"
   ]
  }
 ],
 "metadata": {
  "kernelspec": {
   "display_name": "log-recommender-dataprep",
   "language": "python",
   "name": "log-recommender-dataprep"
  },
  "language_info": {
   "codemirror_mode": {
    "name": "ipython",
    "version": 3
   },
   "file_extension": ".py",
   "mimetype": "text/x-python",
   "name": "python",
   "nbconvert_exporter": "python",
   "pygments_lexer": "ipython3",
   "version": "3.6.7"
  }
 },
 "nbformat": 4,
 "nbformat_minor": 2
}
