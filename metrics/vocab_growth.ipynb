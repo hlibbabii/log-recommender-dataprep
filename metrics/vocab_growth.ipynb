{
 "cells": [
  {
   "cell_type": "code",
   "execution_count": 2,
   "metadata": {},
   "outputs": [
    {
     "name": "stdout",
     "output_type": "stream",
     "text": [
      "Vocab 1: 1154143\n",
      "Vocab 2: 1434112\n",
      "New in vocab 2:\n",
      "[('replacementrule', 139779), ('thingml', 65302), ('modelobjects', 60435), ('jjflyboy', 58030), ('tjpeditor', 58030), ('certware', 53836), ('opennms', 43757), ('sqlproc', 40387), ('openflexo', 37176), ('templatecompletion', 31232), ('contentfwk', 28355), ('dexels', 26637), ('earlgrey', 21351), ('projity', 20848), ('opaeum', 20609), ('openquark', 19396), ('stereotypeproperty', 16098), ('netmgt', 16053), ('httprouting', 15715), ('mspdi', 15609)]\n",
      "[('utflutningsalag', 23), ('oslaegt', 23), ('slaegt', 23), ('undirmal', 23), ('stadsetning', 23), ('rcodes', 23), ('kpqhey', 23), ('opvec', 23), ('6723444', 23), ('breakure', 23), ('eventctx', 23), ('34.444725', 23), ('equalxyz', 23), ('rbnmlist', 23), ('snaprange', 23), ('tpcf', 23), ('dsasf', 23), ('ffffffffffffb', 23), ('messagetool', 22), ('arnost', 22)]\n",
      "[('0.0009506', 1), ('0.00582962', 1), ('0.00228253', 1), ('0.08032150', 1), ('rootcause', 1), ('zippparams', 1), ('configruration', 1), ('cfdebug', 1), ('unquotted', 1), ('6898015655555959609L', 1), ('bitsblock', 1), ('twookdb', 1), ('resultsmenu', 1), ('unicman', 1), ('nwoodham', 1), ('7032473008202164630L', 1), ('4234956709132417887L', 1), ('3218241207990092875L', 1), ('8643909225593543019L', 1), ('7088300192975076406L', 1)]\n",
      "Total: 957954\n",
      "New in vocab 1:\n",
      "[('opengamma', 50740), ('testlanguages', 48267), ('jooq', 43220), ('xcore', 38599), ('ovirt', 30145), ('oclinecore', 23062), ('fxgraph', 21525), ('geppetto', 19481), ('xscript', 19386), ('oclstdlib', 19224), ('efxbean', 15878), ('intermine', 14473), ('xmlvm', 14290), ('completeocl', 14176), ('bibliothek', 13873), ('lstdlib', 13838), ('purexbase', 13676), ('archimate', 12570), ('xrepl', 12503), ('eurekastreams', 11996)]\n",
      "[('uasparser', 18), ('endkeys', 18), ('dataselection', 18), ('gamesetdao', 18), ('trackmap', 18), ('ethernetinfo', 18), ('myspaceim', 18), ('isdirsep', 18), ('mglar', 18), ('endc', 18), ('regexec', 18), ('cmdh', 18), ('samplereports', 18), ('osgijmx', 18), ('3285377520', 18), ('eppen', 18), ('alldonetask', 18), ('errortask', 18), ('gozirra', 18), ('entadmin', 18)]\n",
      "[('dodeleteteam', 1), ('dodeletemember', 1), ('doaddremoverole', 1), ('dodeleterequest', 1), ('doapproverequest', 1), ('proptemplate', 1), ('appplies', 1), ('beenreached', 1), ('7023034', 1), ('parenheses', 1), ('expeditiousness', 1), ('loooping', 1), ('nonreachable', 1), ('auromatically', 1), ('constqnt', 1), ('inamdar', 1), ('vishnoi', 1), ('intefraces', 1), ('determince', 1), ('signatutes', 1)]\n",
      "Total: 677985\n"
     ]
    }
   ],
   "source": [
    "from dataprep.vocab import vocabloader\n",
    "from metrics.vector import nonsense_rate, vocab_similarity_rate, get_new_vocab\n",
    "\n",
    "n_merges=1\n",
    "java_bpe_vocab = vocabloader.base(f'small_chunk-{n_merges}')\n",
    "nonsense_rate(list(java_bpe_vocab.items()))\n",
    "\n",
    "vocab1 = vocabloader.all('1_nocase-1')\n",
    "print(f'Vocab 1: {len(vocab1)}')\n",
    "\n",
    "vocab2 = vocabloader.all('0_nocase-1')\n",
    "print(f'Vocab 2: {len(vocab2)}')\n",
    "\n",
    "vocab_similarity_rate(list(vocab1.items()), list(vocab2.items()))\n",
    "\n",
    "new_in_2 = get_new_vocab(list(vocab1.items()), list(vocab2.items()))\n",
    "print('New in vocab 2:')\n",
    "print(new_in_2[:20])\n",
    "print(new_in_2[20000:20020])\n",
    "print(new_in_2[-20:])\n",
    "print(f'Total: {len(new_in_2)}')\n",
    "\n",
    "new_in_1 = get_new_vocab(list(vocab2.items()), list(vocab1.items()))\n",
    "print('New in vocab 1:')\n",
    "print(new_in_1[:20])\n",
    "print(new_in_1[20000:20020])\n",
    "print(new_in_1[-20:])\n",
    "print(f'Total: {len(new_in_1)}')\n",
    "\n"
   ]
  }
 ],
 "metadata": {
  "kernelspec": {
   "display_name": "metrics",
   "language": "python",
   "name": "metrics"
  },
  "language_info": {
   "codemirror_mode": {
    "name": "ipython",
    "version": 3
   },
   "file_extension": ".py",
   "mimetype": "text/x-python",
   "name": "python",
   "nbconvert_exporter": "python",
   "pygments_lexer": "ipython3",
   "version": "3.7.3"
  }
 },
 "nbformat": 4,
 "nbformat_minor": 2
}
